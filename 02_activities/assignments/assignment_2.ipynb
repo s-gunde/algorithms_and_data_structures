{
 "cells": [
  {
   "cell_type": "markdown",
   "metadata": {},
   "source": [
    "# Practice Interview\n",
    "\n",
    "## Objective\n",
    "\n",
    "_*The partner assignment aims to provide participants with the opportunity to practice coding in an interview context. You will analyze your partner's Assignment 1. Moreover, code reviews are common practice in a software development team. This assignment should give you a taste of the code review process.*_\n",
    "\n",
    "## Group Size\n",
    "\n",
    "Each group should have 2 people. You will be assigned a partner\n",
    "\n",
    "## Part 1:\n",
    "\n",
    "You and your partner must share each other's Assignment 1 submission."
   ]
  },
  {
   "cell_type": "markdown",
   "metadata": {},
   "source": [
    "Partnering with **Parisa Ghotbi**\n",
    "\n",
    "Code Reviewing Assignment-1 which is located here: https://github.com/Parisaghotbi/algorithms_and_data_structures/pull/1"
   ]
  },
  {
   "cell_type": "markdown",
   "metadata": {},
   "source": [
    "\n",
    "## Part 2:\n",
    "\n",
    "Create a Jupyter Notebook, create 6 of the following headings, and complete the following for your partner's assignment 1:\n",
    "\n",
    "-   Paraphrase the problem in your own words.\n"
   ]
  },
  {
   "cell_type": "markdown",
   "metadata": {},
   "source": [
    "**Answer:**\n",
    "\n",
    "In this problem, we need to find all root-to-leaf paths. A root-to-leaf path starts at the root node and ends at a leaf node, and it includes all the nodes in between in any order."
   ]
  },
  {
   "cell_type": "markdown",
   "metadata": {},
   "source": [
    "\n",
    "-   Create 1 new example that demonstrates you understand the problem. Trace/walkthrough 1 example that your partner made and explain it.\n"
   ]
  },
  {
   "cell_type": "code",
   "execution_count": null,
   "metadata": {},
   "outputs": [],
   "source": [
    "# Example:\n",
    "\n",
    "'''root = TreeNode(8)\n",
    "root.left = TreeNode(5)\n",
    "root.right = TreeNode(10)\n",
    "root.left.left = TreeNode(2)\n",
    "root.left.right = TreeNode(6)\n",
    "\n",
    "print(bt_path(root))'''"
   ]
  },
  {
   "cell_type": "markdown",
   "metadata": {},
   "source": [
    "Output is: [[8, 5, 2], [8, 5, 6], [8, 10]]\n"
   ]
  },
  {
   "cell_type": "code",
   "execution_count": null,
   "metadata": {},
   "outputs": [],
   "source": [
    "# Partner Example:\n",
    "\n",
    "'''root = TreeNode(1)\n",
    "root.left = TreeNode(2)\n",
    "root.right = TreeNode(3)\n",
    "root.left.right = TreeNode(5)\n",
    "\n",
    "print(bt_path(root))'''"
   ]
  },
  {
   "cell_type": "markdown",
   "metadata": {},
   "source": [
    "Output is: [[1, 2, 5], [1, 3]]"
   ]
  },
  {
   "cell_type": "markdown",
   "metadata": {},
   "source": [
    "**Walkthrough Partner Example:**\n",
    "\n",
    "Step 1: The code starts by identifying the root node.\n",
    "\n",
    "Step 2: It then explores the left and right child nodes until it reaches a leaf (a node with no children) and saves the current path.\n",
    "\n",
    "Step 3: Since this is a Depth-First Search (DFS), once one branch is finished, it backtracks to explore other paths without revisiting already checked nodes.\n",
    "\n",
    "Step 4: This process repeats until all root-to-leaf paths are found, ensuring efficient and accurate results.\n"
   ]
  },
  {
   "cell_type": "markdown",
   "metadata": {},
   "source": [
    "\n",
    "-   Copy the solution your partner wrote. \n"
   ]
  },
  {
   "cell_type": "code",
   "execution_count": 1,
   "metadata": {},
   "outputs": [],
   "source": [
    "# Using BFS for this problem as partner suggested\n",
    "\n",
    "# Definition for a binary tree node.\n",
    "class TreeNode:\n",
    "    def __init__(self, val=0, left=None, right=None):\n",
    "        self.val = val\n",
    "        self.left = left\n",
    "        self.right = right\n",
    "\n",
    "def bt_path(root):\n",
    "    if not root:  # If the tree is empty, return an empty list\n",
    "        return []\n",
    "    \n",
    "    # Use a queue to track nodes and their paths\n",
    "    queue = [(root, [root.val])]\n",
    "    paths = []\n",
    "\n",
    "    while queue:\n",
    "        node, path = queue.pop(0)\n",
    "\n",
    "        # If it's a leaf node, add the path to the result\n",
    "        if not node.left and not node.right:\n",
    "            paths.append(path)\n",
    "        \n",
    "        # Add left and right children to the queue if they exist\n",
    "        if node.left:\n",
    "            queue.append((node.left, path + [node.left.val]))\n",
    "        if node.right:\n",
    "            queue.append((node.right, path + [node.right.val]))\n",
    "    \n",
    "    return paths\n",
    "\n"
   ]
  },
  {
   "cell_type": "code",
   "execution_count": 2,
   "metadata": {},
   "outputs": [
    {
     "name": "stdout",
     "output_type": "stream",
     "text": [
      "[[8, 10], [8, 5, 2], [8, 5, 6]]\n"
     ]
    }
   ],
   "source": [
    "# Test BFS on below tree\n",
    "\n",
    "root = TreeNode(8)\n",
    "root.left = TreeNode(5)\n",
    "root.right = TreeNode(10)\n",
    "root.left.left = TreeNode(2)\n",
    "root.left.right = TreeNode(6)\n",
    "\n",
    "print(bt_path(root))\n"
   ]
  },
  {
   "cell_type": "markdown",
   "metadata": {},
   "source": [
    "\n",
    "-   Explain why their solution works in your own words.\n"
   ]
  },
  {
   "cell_type": "markdown",
   "metadata": {},
   "source": [
    "**Answer**\n",
    "\n",
    "Both BFS and DFS give the same result because they both explore all root-to-leaf paths. The order in which they visit the nodes doesn't affect the final list of paths, as both methods eventually cover all possible paths."
   ]
  },
  {
   "cell_type": "markdown",
   "metadata": {},
   "source": [
    "\n",
    "-   Explain the problem’s time and space complexity in your own words.\n"
   ]
  },
  {
   "cell_type": "markdown",
   "metadata": {},
   "source": [
    "**Answer:**\n",
    "\n",
    "The function visits all nodes and checks each edge between nodes once, so the time complexity is O(n+e), where n is the number of nodes and e is the number of edges.\n",
    "\n",
    "The space complexity is O(n), as the queue may need to store all nodes in the worst case."
   ]
  },
  {
   "cell_type": "markdown",
   "metadata": {},
   "source": [
    "\n",
    "-   Critique your partner's solution, including explanation, and if there is anything that should be adjusted.\n"
   ]
  },
  {
   "cell_type": "markdown",
   "metadata": {},
   "source": [
    "**Answer:**\n",
    "\n",
    "My partner used the DFS method to find all root-to-leaf paths, which is effective for exploring deep into a tree or graph. It uses less memory than BFS, as it only needs to store the current path. However, the choice between DFS and BFS depends on the tree structure:\n",
    "\n",
    "If the tree is deep and narrow, DFS may be slightly faster due to lower space usage.\n",
    "If the tree is wide, BFS might be more efficient since it doesn't recurse deeply, though the queue could grow large.\n",
    "\n",
    "For the examples we both worked on, both BFS and DFS the difference is minimal."
   ]
  },
  {
   "cell_type": "markdown",
   "metadata": {},
   "source": [
    "\n",
    "## Part 3:\n",
    "\n",
    "Please write a 200 word reflection documenting your process from assignment 1, and your presentation and review experience with your partner at the bottom of the Jupyter Notebook under a new heading \"Reflection.\" Again, export this Notebook as pdf.\n"
   ]
  },
  {
   "cell_type": "markdown",
   "metadata": {},
   "source": [
    "### Reflection"
   ]
  },
  {
   "cell_type": "markdown",
   "metadata": {},
   "source": [
    "**Answer:**\n",
    "\n",
    " I started Assignment-1 by trying to fully understand the problem. Creating examples helped me see where I was missing something and gave me a clearer idea of how to solve it. Once I had good examples, I started writing code. I thought about it from two perspectives: as a developer, making the function efficient and easy to understand, and as a user, testing it to find any issues or improvements. Testing the code as I worked helped me learn a lot and make my solution better.\n",
    "\n",
    "I also focused on writing code with good time and space efficiency. To explore different approaches, I suggested an alternative solution to my partner, trying out a different data structure. Testing how algorithms and data structures perform on smaller inputs helped me compare their speed and efficiency, so I could choose the best one.\n",
    "\n",
    "Reviewing my partner’s code was another great learning experience. It was interesting to see their style, how they documented their work, and the unique methods they used to solve the problem. As a reviewer, I noticed things I could avoid in my own code and got new ideas to improve. Overall, coding, testing, and reviewing helped me learn and grow throughout this assignment."
   ]
  },
  {
   "cell_type": "markdown",
   "metadata": {},
   "source": [
    "\n",
    "## Evaluation Criteria\n",
    "\n",
    "We are looking for the similar points as Assignment 1\n",
    "\n",
    "-   Problem is accurately stated\n",
    "\n",
    "-   New example is correct and easily understandable\n",
    "\n",
    "-   Correctness, time, and space complexity of the coding solution\n",
    "\n",
    "-   Clarity in explaining why the solution works, its time and space complexity\n",
    "\n",
    "-   Quality of critique of your partner's assignment, if necessary\n"
   ]
  },
  {
   "cell_type": "markdown",
   "metadata": {},
   "source": [
    "## Submission Information\n",
    "\n",
    "🚨 **Please review our [Assignment Submission Guide](https://github.com/UofT-DSI/onboarding/blob/main/onboarding_documents/submissions.md)** 🚨 for detailed instructions on how to format, branch, and submit your work. Following these guidelines is crucial for your submissions to be evaluated correctly.\n",
    "\n",
    "### Submission Parameters:\n",
    "* Submission Due Date: `HH:MM AM/PM - DD/MM/YYYY`\n",
    "* The branch name for your repo should be: `assignment-2`\n",
    "* What to submit for this assignment:\n",
    "    * This Jupyter Notebook (assignment_2.ipynb) should be populated and should be the only change in your pull request.\n",
    "* What the pull request link should look like for this assignment: `https://github.com/<your_github_username>/algorithms_and_data_structures/pull/<pr_id>`\n",
    "    * Open a private window in your browser. Copy and paste the link to your pull request into the address bar. Make sure you can see your pull request properly. This helps the technical facilitator and learning support staff review your submission easily.\n",
    "\n",
    "Checklist:\n",
    "- [ ] Created a branch with the correct naming convention.\n",
    "- [ ] Ensured that the repository is public.\n",
    "- [ ] Reviewed the PR description guidelines and adhered to them.\n",
    "- [ ] Verify that the link is accessible in a private browser window.\n",
    "\n",
    "If you encounter any difficulties or have questions, please don't hesitate to reach out to our team via our Slack at `#cohort-3-help`. Our Technical Facilitators and Learning Support staff are here to help you navigate any challenges.\n"
   ]
  }
 ],
 "metadata": {
  "kernelspec": {
   "display_name": "dsi_participant",
   "language": "python",
   "name": "python3"
  },
  "language_info": {
   "codemirror_mode": {
    "name": "ipython",
    "version": 3
   },
   "file_extension": ".py",
   "mimetype": "text/x-python",
   "name": "python",
   "nbconvert_exporter": "python",
   "pygments_lexer": "ipython3",
   "version": "3.9.19"
  }
 },
 "nbformat": 4,
 "nbformat_minor": 2
}
